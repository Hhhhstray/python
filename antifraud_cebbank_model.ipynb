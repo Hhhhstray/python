{
 "cells": [
  {
   "cell_type": "markdown",
   "metadata": {},
   "source": [
    "# 读入函数"
   ]
  },
  {
   "cell_type": "code",
   "execution_count": null,
   "metadata": {},
   "outputs": [],
   "source": [
    "import os\n",
    "import pandas as pd\n",
    "from sklearn.preprocessing import MinMaxScaler\n",
    "from sklearn.cluster import KMeans\n",
    "from sklearn.ensemble import IsolationForest\n",
    "from sklearn.externals import joblib\n",
    "\n",
    "import warnings\n",
    "warnings.filterwarnings('ignore')"
   ]
  },
  {
   "cell_type": "markdown",
   "metadata": {},
   "source": [
    "# K-means模型"
   ]
  },
  {
   "cell_type": "code",
   "execution_count": null,
   "metadata": {},
   "outputs": [],
   "source": [
    "def kmeans_train(data,to_delete=None):\n",
    "    '''\n",
    "    训练kmeans模型并输出异常得分\n",
    "    input:\n",
    "    data: dataframe，原始变量数据，其index为User_Id，columns为变量名\n",
    "    to_delete: list，训练模型时需要删除的变量，默认不删除\n",
    "    return:\n",
    "    cluster: 训练好的kmeans模型对象\n",
    "    score: series, 模型计算的异常得分\n",
    "    '''\n",
    "    #删除变量\n",
    "    if to_delete is None:\n",
    "        to_delete = []\n",
    "    feature_remain = [col for col in data.columns.tolist() if col not in to_delete]\n",
    "    #归一化处理\n",
    "    data_select = data[feature_remain]\n",
    "    select_index = data_select.index\n",
    "    select_column = data_select.columns\n",
    "    scaler = MinMaxScaler()\n",
    "    data_std = scaler.fit_transform(data_select)\n",
    "    data_std = pd.DataFrame(data_std,index=select_index,columns=select_column)\n",
    "    #模型训练\n",
    "    cluster = KMeans(n_clustering=2,random_state=0)\n",
    "    cluster.fit(data_std)\n",
    "    label = cluster.labels_\n",
    "    print('模型训练完成')\n",
    "    #计算异常得分\n",
    "    score = cluster.transform(data_std)\n",
    "    score = pd.DataFrame(score,index=select_index,columns=['Distance0','Distance1'])\n",
    "    score['Class'] = label\n",
    "    score = score[score['Class'] == 1]\n",
    "    del score['Distance1'],score['Class']\n",
    "    score = pd.Series(score)\n",
    "    score.index = select_index\n",
    "    score.name = 'score'\n",
    "    print('异常得分计算完成')\n",
    "    return cluster,score"
   ]
  },
  {
   "cell_type": "markdown",
   "metadata": {},
   "source": [
    "# iForest模型"
   ]
  },
  {
   "cell_type": "code",
   "execution_count": null,
   "metadata": {},
   "outputs": [],
   "source": [
    "def iforest_train(data,params,to_delete=None,feature_weights=None):\n",
    "    '''\n",
    "    训练iForest模型并输出异常得分\n",
    "    input:\n",
    "    data: dataframe，原始变量数据，其index为User_Id，columns为变量名\n",
    "    params: dict，iForest相关参数及取值\n",
    "    to_delete: list，训练模型时需要删除的变量，默认不删除\n",
    "    feature_weights: dict，key为变量名，value为变量权重(实际取值应为正整数，代表该变量对应列的复制次数)，默认均为1\n",
    "    return:\n",
    "    clf: 训练好的iForest模型对象\n",
    "    columns_use: list, 实际入模的变量列表，根据变量权重可能有重复\n",
    "    score: series, 模型计算的异常得分\n",
    "    ''' \n",
    "    #删除变量\n",
    "    if to_delete is None:\n",
    "        to_delete = []\n",
    "    feature_remain = [col for col in data.columns.tolist() if col not in to_delete]\n",
    "    #加入变量权重\n",
    "    if feature_weights is None:\n",
    "        feature_weights = {}\n",
    "    for col in feature_remain:\n",
    "        if col not in feature_weights:\n",
    "            feature_weights[col] = 1\n",
    "    columns_use = []\n",
    "    for col in feature_remain:\n",
    "        columns_use.extend([col]*feature_weights[col])\n",
    "    #模型训练\n",
    "    clf = IsolationForest(**params)\n",
    "    clf.fit(data[columns_use])\n",
    "    print('模型训练完成')\n",
    "    #计算异常得分\n",
    "    score = pd.Series(0.5-clf.decision_function(data[columns_use]))\n",
    "    score.index = data.index\n",
    "    score.name = 'score'\n",
    "    print('异常得分计算完成')\n",
    "    return clf,columns_use,score"
   ]
  },
  {
   "cell_type": "markdown",
   "metadata": {},
   "source": [
    "# 模型训练"
   ]
  },
  {
   "cell_type": "code",
   "execution_count": null,
   "metadata": {},
   "outputs": [],
   "source": [
    "##################################main##################################\n",
    "path = '/usr/local/workspace/'\n",
    "os.chdir(path)\n",
    "\n",
    "#读入大宽表\n",
    "data = pd.read_csv('/data1/sample_bigtable/bigtable_final.csv',converters={'User_Id':str})\n",
    "\n",
    "#K-means模型训练\n",
    "data_cluster = data[columns_cluster]\n",
    "data_cluster = data_cluster.set_index('User_Id')\n",
    "cluster,score_cluster = kmeans_train(data=data_cluster)\n",
    "score_cluster.to_csv('result/score_cluster.csv',index=True,header=True)\n",
    "print('K-means模型训练完成')\n",
    "\n",
    "#iForest模型训练\n",
    "data_forest = data[columns_forest]\n",
    "data_forest = data_forest.set_index('User_Id')\n",
    "params={'n_estimators':100,'max_samples':0.1,'bootstrap':False,'n_jobs':1,'random_state':0}\n",
    "clf,columns_use,score_forest = iforest_train(data=data_forest,params=params)\n",
    "score_forest.to_csv('result/score_forest.csv',index=True,header=True)\n",
    "print('iForest模型训练完成')"
   ]
  }
 ],
 "metadata": {
  "kernelspec": {
   "display_name": "Python 3",
   "language": "python",
   "name": "python3"
  },
  "language_info": {
   "codemirror_mode": {
    "name": "ipython",
    "version": 3
   },
   "file_extension": ".py",
   "mimetype": "text/x-python",
   "name": "python",
   "nbconvert_exporter": "python",
   "pygments_lexer": "ipython3",
   "version": "3.7.6"
  }
 },
 "nbformat": 4,
 "nbformat_minor": 2
}
