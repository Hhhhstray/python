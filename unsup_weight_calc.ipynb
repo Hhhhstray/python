{
 "cells": [
  {
   "cell_type": "code",
   "execution_count": 1,
   "metadata": {},
   "outputs": [],
   "source": [
    "import pandas as pd\n",
    "import numpy as np\n",
    "\n",
    "from sklearn.preprocessing import MinMaxScaler\n",
    "from sklearn.decomposition import PCA"
   ]
  },
  {
   "cell_type": "code",
   "execution_count": 3,
   "metadata": {},
   "outputs": [],
   "source": [
    "###熵权法\n",
    "def entropy_weight_calc(data,scale=True):\n",
    "    '''\n",
    "    利用熵权法计算权重\n",
    "    input:\n",
    "    data: dataframe, 样本的指标数据\n",
    "    scale: bool, 是否归一化, 默认True\n",
    "    output:\n",
    "    weight: dataframe, 指标权重\n",
    "    '''\n",
    "    data_std = data.copy()\n",
    "    if scale:\n",
    "        scaler = MinMaxScaler()\n",
    "        data_std = scaler.fit_transform(data_std)\n",
    "        data_std = pd.DataFrame(data_std,index=data.index,columns=data.columns)\n",
    "    #计算信息熵\n",
    "    k = 1/np.log(len(data_std))\n",
    "    data_std = data_std/data_std.sum(axis=0)\n",
    "    data_std = data_std*np.log(data_std)\n",
    "    data_std = pd.DataFrame(np.nan_to_num(data_std),index=data.index,columns=data.columns)\n",
    "    entropy = -k*(data_std.sum(axis=0))\n",
    "    #计算权重\n",
    "    weight = (1-entropy)/np.sum(1-entropy)\n",
    "    weight = pd.DataFrame(weight,columns=['weight'])\n",
    "    return weight        "
   ]
  },
  {
   "cell_type": "code",
   "execution_count": 4,
   "metadata": {},
   "outputs": [],
   "source": [
    "###主成分分析法\n",
    "def pca_weight_calc(data,scale=True,threshold=0.8,random_state=0):\n",
    "    '''\n",
    "    利用主成分分析法计算权重\n",
    "    input:\n",
    "    data: dataframe, 样本的指标数据\n",
    "    scale: bool, 是否归一化, 默认True\n",
    "    threshold: float, 主成分累计方差贡献度阈值, 默认为0.8\n",
    "    random_state: int, 随机参数, 默认为0\n",
    "    ouput:\n",
    "    weight: dataframe, 指标权重\n",
    "    '''\n",
    "    data_std = data.copy()\n",
    "    if scale:\n",
    "        scaler = MinMaxScaler()\n",
    "        data_std = scaler.fit_transform(data_std)\n",
    "        data_std = pd.DataFrame(data_std,index=data.index,columns=data.columns)\n",
    "    #确定主成分个数\n",
    "    pca = PCA(random_state=random_state)\n",
    "    pca.fit(data_std)\n",
    "    component_num = np.where(pca.explained_variance_ratio_.cumsum()>threshold)[0][0]+1\n",
    "    #计算主成分系数\n",
    "    pca = PCA(n_component=component_num,random_state=random_state)\n",
    "    pca.fit(data_std)\n",
    "    data_pca = pd.DataFrame(pca.components_,columns=data.columns).T.abs()\n",
    "    singular_value_root = np.sqrt(pca.singular_values_)\n",
    "    data_pca = data_pca/singular_value_root\n",
    "    #计算权重\n",
    "    variance_ratio = pca.explained_variance_ratio_\n",
    "    weight = (data_pca*variance_ratio).sum(axis=1)/np.sum(variance_ratio)\n",
    "    weight = weight/np.sum(weight)\n",
    "    weight = pd.DataFrame(weight,columns=['weight'])\n",
    "    return weight    "
   ]
  }
 ],
 "metadata": {
  "kernelspec": {
   "display_name": "Python 3",
   "language": "python",
   "name": "python3"
  },
  "language_info": {
   "codemirror_mode": {
    "name": "ipython",
    "version": 3
   },
   "file_extension": ".py",
   "mimetype": "text/x-python",
   "name": "python",
   "nbconvert_exporter": "python",
   "pygments_lexer": "ipython3",
   "version": "3.7.6"
  }
 },
 "nbformat": 4,
 "nbformat_minor": 2
}
